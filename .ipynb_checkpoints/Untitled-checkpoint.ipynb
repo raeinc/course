{
 "cells": [
  {
   "cell_type": "code",
   "execution_count": 1,
   "id": "6b83df8b-a79c-4b3d-90c0-6986f3b87db1",
   "metadata": {},
   "outputs": [
    {
     "name": "stdout",
     "output_type": "stream",
     "text": [
      "yo\n"
     ]
    }
   ],
   "source": [
    "print('yo')\n"
   ]
  },
  {
   "cell_type": "code",
   "execution_count": null,
   "id": "2cd79bfc-a0cc-499f-9629-64609953fe92",
   "metadata": {},
   "outputs": [],
   "source": []
  }
 ],
 "metadata": {
  "kernelspec": {
   "display_name": "Python 3 (ipykernel)",
   "language": "python",
   "name": "python3"
  },
  "language_info": {
   "codemirror_mode": {
    "name": "ipython",
    "version": 3
   },
   "file_extension": ".py",
   "mimetype": "text/x-python",
   "name": "python",
   "nbconvert_exporter": "python",
   "pygments_lexer": "ipython3",
   "version": "3.12.1"
  }
 },
 "nbformat": 4,
 "nbformat_minor": 5
}
